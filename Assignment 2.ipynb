{
 "cells": [
  {
   "cell_type": "code",
   "execution_count": 1,
   "metadata": {},
   "outputs": [],
   "source": [
    "import requests\n",
    "import os\n",
    "import glob\n",
    "from bs4 import BeautifulSoup\n",
    "import pandas as pd\n",
    "import string \n",
    "from sklearn.feature_extraction.text import TfidfVectorizer\n",
    "from sklearn.cluster import KMeans\n",
    "from sklearn.metrics import silhouette_score\n",
    "from yellowbrick.cluster import SilhouetteVisualizer\n",
    "import matplotlib.pyplot as plt \n",
    "from sklearn.metrics.pairwise import cosine_similarity \n",
    "import matplotlib.pyplot as plt\n",
    "from scipy.cluster.hierarchy import linkage, dendrogram\n",
    "import numpy as np"
   ]
  },
  {
   "cell_type": "markdown",
   "metadata": {},
   "source": [
    "# Creating the dataframe"
   ]
  },
  {
   "cell_type": "code",
   "execution_count": 3,
   "metadata": {},
   "outputs": [],
   "source": [
    "# load in the html files\n",
    "path = \"NPO/NPO/shows\"\n",
    "\n",
    "data = []\n",
    "\n",
    "#Loop over all the files:\n",
    "\n",
    "def create_npo(path):\n",
    "    titles = []\n",
    "    descriptions = []\n",
    "    pictures = []\n",
    "    for file in os.listdir(path):\n",
    "        filename = path + \"/\" + file\n",
    "        if './data/show' not in file:\n",
    "            soup = BeautifulSoup(open(filename, encoding=\"utf8\"), 'html.parser')\n",
    "\n",
    "            # extract the title, description and image from each file\n",
    "            if soup.find('meta',  attrs={'property': 'og:title'}):\n",
    "                title = soup.find('meta',  attrs={'property': 'og:title'})['content']\n",
    "                title2 = title.replace(\" gemist? Start met kijken op NPO Start\", \" \")\n",
    "                titles.append(title2)\n",
    "            else:\n",
    "                titles.append('')\n",
    "\n",
    "            if soup.find('meta',  attrs={'property': 'og:description'}):\n",
    "                descriptions.append(soup.find('meta',  attrs={'property': 'og:description'})['content'])\n",
    "            else:\n",
    "                descriptions.append(\" \")\n",
    "\n",
    "            if soup.find('meta',  attrs={'property': 'og:image'}):\n",
    "                pictures.append(soup.find('meta',  attrs={'property': 'og:image'})['content'])\n",
    "            else:\n",
    "                pictures.append('')\n",
    "\n",
    "    list_of_tuples = list(zip(titles,descriptions,pictures))\n",
    "    df = pd.DataFrame(list_of_tuples,\n",
    "                      columns = ['titles','descriptions','pictures'])\n",
    "\n",
    "    return(df)"
   ]
  },
  {
   "cell_type": "code",
   "execution_count": 4,
   "metadata": {},
   "outputs": [],
   "source": [
    "df = create_npo(path)"
   ]
  },
  {
   "cell_type": "code",
   "execution_count": 149,
   "metadata": {},
   "outputs": [
    {
     "data": {
      "text/html": [
       "<div>\n",
       "<style scoped>\n",
       "    .dataframe tbody tr th:only-of-type {\n",
       "        vertical-align: middle;\n",
       "    }\n",
       "\n",
       "    .dataframe tbody tr th {\n",
       "        vertical-align: top;\n",
       "    }\n",
       "\n",
       "    .dataframe thead th {\n",
       "        text-align: right;\n",
       "    }\n",
       "</style>\n",
       "<table border=\"1\" class=\"dataframe\">\n",
       "  <thead>\n",
       "    <tr style=\"text-align: right;\">\n",
       "      <th></th>\n",
       "      <th>titles</th>\n",
       "      <th>descriptions</th>\n",
       "      <th>pictures</th>\n",
       "      <th>ID</th>\n",
       "      <th>spacy</th>\n",
       "      <th>spacy2</th>\n",
       "      <th>total</th>\n",
       "      <th>nature</th>\n",
       "      <th>history</th>\n",
       "      <th>travel</th>\n",
       "      <th>romantic</th>\n",
       "      <th>diversity</th>\n",
       "      <th>educational</th>\n",
       "      <th>final_text</th>\n",
       "      <th>k_means</th>\n",
       "      <th>crime</th>\n",
       "      <th>action</th>\n",
       "      <th>politics</th>\n",
       "      <th>teen</th>\n",
       "      <th>reality</th>\n",
       "    </tr>\n",
       "  </thead>\n",
       "  <tbody>\n",
       "    <tr>\n",
       "      <th>0</th>\n",
       "      <td>1 Euro per gesprek</td>\n",
       "      <td>Bert Kuizenga gaat open in gesprek met voorbij...</td>\n",
       "      <td>https://images.npo.nl/header/2560x1440/1652869...</td>\n",
       "      <td>0</td>\n",
       "      <td>[bert, kuizenga, gaan, open, gesprek, voorbijg...</td>\n",
       "      <td>bert kuizenga gaan open gesprek voorbijganger ...</td>\n",
       "      <td>1 euro per gesprek  bert kuizenga gaan open ge...</td>\n",
       "      <td>0</td>\n",
       "      <td>0</td>\n",
       "      <td>0</td>\n",
       "      <td>0</td>\n",
       "      <td>1</td>\n",
       "      <td>0</td>\n",
       "      <td>euro per gesprek  bert kuizenga gaan open ge...</td>\n",
       "      <td>1</td>\n",
       "      <td>0</td>\n",
       "      <td>0</td>\n",
       "      <td>0</td>\n",
       "      <td>0</td>\n",
       "      <td>0</td>\n",
       "    </tr>\n",
       "    <tr>\n",
       "      <th>1</th>\n",
       "      <td>1 Voor de Verkiezingen</td>\n",
       "      <td>In de maand september, middenin het hart van d...</td>\n",
       "      <td>https://images.npo.nl/header/2560x1440/139875.jpg</td>\n",
       "      <td>1</td>\n",
       "      <td>[maand, september, middenin, hart, nederlands,...</td>\n",
       "      <td>maand september middenin hart nederlands verki...</td>\n",
       "      <td>1 voor de verkiezingen  maand september midden...</td>\n",
       "      <td>0</td>\n",
       "      <td>0</td>\n",
       "      <td>0</td>\n",
       "      <td>0</td>\n",
       "      <td>0</td>\n",
       "      <td>0</td>\n",
       "      <td>voor de verkiezingen  maand september midden...</td>\n",
       "      <td>11</td>\n",
       "      <td>0</td>\n",
       "      <td>0</td>\n",
       "      <td>0</td>\n",
       "      <td>0</td>\n",
       "      <td>0</td>\n",
       "    </tr>\n",
       "    <tr>\n",
       "      <th>2</th>\n",
       "      <td>10 jaar TV Draait Door</td>\n",
       "      <td>De leukste rubriek van Nederland bestaat 10 ja...</td>\n",
       "      <td>https://images.npo.nl/header/2560x1440/579842.jpg</td>\n",
       "      <td>2</td>\n",
       "      <td>[leuk, rubriek, nederland, bestaan, jaar, vier...</td>\n",
       "      <td>leuk rubriek nederland bestaan jaar vieren ter...</td>\n",
       "      <td>10 jaar  draait door  leuk rubriek nederland b...</td>\n",
       "      <td>0</td>\n",
       "      <td>0</td>\n",
       "      <td>0</td>\n",
       "      <td>0</td>\n",
       "      <td>0</td>\n",
       "      <td>0</td>\n",
       "      <td>jaar  draait door  leuk rubriek nederland b...</td>\n",
       "      <td>11</td>\n",
       "      <td>0</td>\n",
       "      <td>0</td>\n",
       "      <td>0</td>\n",
       "      <td>0</td>\n",
       "      <td>0</td>\n",
       "    </tr>\n",
       "  </tbody>\n",
       "</table>\n",
       "</div>"
      ],
      "text/plain": [
       "                    titles                                       descriptions  \\\n",
       "0      1 Euro per gesprek   Bert Kuizenga gaat open in gesprek met voorbij...   \n",
       "1  1 Voor de Verkiezingen   In de maand september, middenin het hart van d...   \n",
       "2  10 jaar TV Draait Door   De leukste rubriek van Nederland bestaat 10 ja...   \n",
       "\n",
       "                                            pictures  ID  \\\n",
       "0  https://images.npo.nl/header/2560x1440/1652869...   0   \n",
       "1  https://images.npo.nl/header/2560x1440/139875.jpg   1   \n",
       "2  https://images.npo.nl/header/2560x1440/579842.jpg   2   \n",
       "\n",
       "                                               spacy  \\\n",
       "0  [bert, kuizenga, gaan, open, gesprek, voorbijg...   \n",
       "1  [maand, september, middenin, hart, nederlands,...   \n",
       "2  [leuk, rubriek, nederland, bestaan, jaar, vier...   \n",
       "\n",
       "                                              spacy2  \\\n",
       "0  bert kuizenga gaan open gesprek voorbijganger ...   \n",
       "1  maand september middenin hart nederlands verki...   \n",
       "2  leuk rubriek nederland bestaan jaar vieren ter...   \n",
       "\n",
       "                                               total  nature  history  travel  \\\n",
       "0  1 euro per gesprek  bert kuizenga gaan open ge...       0        0       0   \n",
       "1  1 voor de verkiezingen  maand september midden...       0        0       0   \n",
       "2  10 jaar  draait door  leuk rubriek nederland b...       0        0       0   \n",
       "\n",
       "   romantic  diversity  educational  \\\n",
       "0         0          1            0   \n",
       "1         0          0            0   \n",
       "2         0          0            0   \n",
       "\n",
       "                                          final_text  k_means  crime  action  \\\n",
       "0    euro per gesprek  bert kuizenga gaan open ge...        1      0       0   \n",
       "1    voor de verkiezingen  maand september midden...       11      0       0   \n",
       "2     jaar  draait door  leuk rubriek nederland b...       11      0       0   \n",
       "\n",
       "   politics  teen  reality  \n",
       "0         0     0        0  \n",
       "1         0     0        0  \n",
       "2         0     0        0  "
      ]
     },
     "execution_count": 149,
     "metadata": {},
     "output_type": "execute_result"
    }
   ],
   "source": [
    "df.head(3)"
   ]
  },
  {
   "cell_type": "markdown",
   "metadata": {},
   "source": [
    "# Lots of data cleaning"
   ]
  },
  {
   "cell_type": "code",
   "execution_count": 8,
   "metadata": {},
   "outputs": [],
   "source": [
    "df = df[df.titles != '']\n",
    "df = df[df.descriptions != '']\n",
    "df = df[df.descriptions != ' ']\n",
    "df = df[df.pictures != '']"
   ]
  },
  {
   "cell_type": "code",
   "execution_count": 9,
   "metadata": {},
   "outputs": [
    {
     "data": {
      "text/plain": [
       "2698"
      ]
     },
     "execution_count": 9,
     "metadata": {},
     "output_type": "execute_result"
    }
   ],
   "source": [
    "len(df)"
   ]
  },
  {
   "cell_type": "code",
   "execution_count": 10,
   "metadata": {},
   "outputs": [],
   "source": [
    "#Add index ID column\n",
    "df['ID'] = range(0, len(df)-1 + 1)"
   ]
  },
  {
   "cell_type": "code",
   "execution_count": 11,
   "metadata": {},
   "outputs": [],
   "source": [
    "#Create new df to do analysis:\n",
    "npo_df = df\n"
   ]
  },
  {
   "cell_type": "code",
   "execution_count": 12,
   "metadata": {},
   "outputs": [],
   "source": [
    "import spacy\n",
    "\n",
    "nlp = spacy.load(\"nl_core_news_sm\")\n",
    "flatten = lambda t: [item for sublist in t for item in sublist]\n",
    "\n",
    "def lemmatize(texts):\n",
    "    \n",
    "    # nouns and verbs\n",
    "    type_of_words = ['NOUN', 'ADJ','VERB','PROPN']\n",
    "    \n",
    "    processed_texts = [text for text in nlp.pipe(texts, \n",
    "                                              disable=[\"ner\",\n",
    "                                                       \"parser\"])]\n",
    "    \n",
    "    # the lemma of a word if the word is not a stop word and the word is a noun or a verb\n",
    "    tokenized_text = [[word.lemma_.lower() for word in processed_text if word.pos_ in type_of_words\n",
    "                                and not word.is_stop] for processed_text in processed_texts]\n",
    "    #tokenized_text = [word.lemma_.lower() for word in processed_text if word.pos_ in type_of_words and not word.is_stop]\n",
    "    \n",
    "    \n",
    "    \n",
    "    # return the tokenized, lemmatized text\n",
    "    return tokenized_text"
   ]
  },
  {
   "cell_type": "code",
   "execution_count": 13,
   "metadata": {},
   "outputs": [],
   "source": [
    "#Define the function preprocess to that strips out any punctionation from the input.\n",
    "def preprocess(text):\n",
    "    return text.translate(str.maketrans('', '', string.punctuation))\n"
   ]
  },
  {
   "cell_type": "code",
   "execution_count": 14,
   "metadata": {},
   "outputs": [],
   "source": [
    "npo_df['spacy'] = lemmatize(npo_df['descriptions']) "
   ]
  },
  {
   "cell_type": "code",
   "execution_count": 65,
   "metadata": {},
   "outputs": [
    {
     "data": {
      "text/html": [
       "<div>\n",
       "<style scoped>\n",
       "    .dataframe tbody tr th:only-of-type {\n",
       "        vertical-align: middle;\n",
       "    }\n",
       "\n",
       "    .dataframe tbody tr th {\n",
       "        vertical-align: top;\n",
       "    }\n",
       "\n",
       "    .dataframe thead th {\n",
       "        text-align: right;\n",
       "    }\n",
       "</style>\n",
       "<table border=\"1\" class=\"dataframe\">\n",
       "  <thead>\n",
       "    <tr style=\"text-align: right;\">\n",
       "      <th></th>\n",
       "      <th>titles</th>\n",
       "      <th>descriptions</th>\n",
       "      <th>pictures</th>\n",
       "      <th>ID</th>\n",
       "      <th>spacy</th>\n",
       "      <th>spacy2</th>\n",
       "      <th>total</th>\n",
       "      <th>nature</th>\n",
       "      <th>history</th>\n",
       "      <th>travel</th>\n",
       "      <th>romantic</th>\n",
       "      <th>diversity</th>\n",
       "      <th>educational</th>\n",
       "      <th>final_text</th>\n",
       "      <th>k_means</th>\n",
       "    </tr>\n",
       "  </thead>\n",
       "  <tbody>\n",
       "    <tr>\n",
       "      <th>0</th>\n",
       "      <td>1 Euro per gesprek</td>\n",
       "      <td>Bert Kuizenga gaat open in gesprek met voorbij...</td>\n",
       "      <td>https://images.npo.nl/header/2560x1440/1652869...</td>\n",
       "      <td>0</td>\n",
       "      <td>[bert, kuizenga, gaan, open, gesprek, voorbijg...</td>\n",
       "      <td>bert kuizenga gaan open gesprek voorbijganger ...</td>\n",
       "      <td>1 euro per gesprek  bert kuizenga gaan open ge...</td>\n",
       "      <td>0</td>\n",
       "      <td>0</td>\n",
       "      <td>0</td>\n",
       "      <td>0</td>\n",
       "      <td>1</td>\n",
       "      <td>0</td>\n",
       "      <td>euro per gesprek  bert kuizga gaan op gespre...</td>\n",
       "      <td>2</td>\n",
       "    </tr>\n",
       "    <tr>\n",
       "      <th>1</th>\n",
       "      <td>1 Voor de Verkiezingen</td>\n",
       "      <td>In de maand september, middenin het hart van d...</td>\n",
       "      <td>https://images.npo.nl/header/2560x1440/139875.jpg</td>\n",
       "      <td>1</td>\n",
       "      <td>[maand, september, middenin, hart, nederlands,...</td>\n",
       "      <td>maand september middenin hart nederlands verki...</td>\n",
       "      <td>1 voor de verkiezingen  maand september midden...</td>\n",
       "      <td>0</td>\n",
       "      <td>0</td>\n",
       "      <td>0</td>\n",
       "      <td>0</td>\n",
       "      <td>0</td>\n",
       "      <td>0</td>\n",
       "      <td>voor  verkiezing  maand september midnin har...</td>\n",
       "      <td>1</td>\n",
       "    </tr>\n",
       "  </tbody>\n",
       "</table>\n",
       "</div>"
      ],
      "text/plain": [
       "                    titles                                       descriptions  \\\n",
       "0      1 Euro per gesprek   Bert Kuizenga gaat open in gesprek met voorbij...   \n",
       "1  1 Voor de Verkiezingen   In de maand september, middenin het hart van d...   \n",
       "\n",
       "                                            pictures  ID  \\\n",
       "0  https://images.npo.nl/header/2560x1440/1652869...   0   \n",
       "1  https://images.npo.nl/header/2560x1440/139875.jpg   1   \n",
       "\n",
       "                                               spacy  \\\n",
       "0  [bert, kuizenga, gaan, open, gesprek, voorbijg...   \n",
       "1  [maand, september, middenin, hart, nederlands,...   \n",
       "\n",
       "                                              spacy2  \\\n",
       "0  bert kuizenga gaan open gesprek voorbijganger ...   \n",
       "1  maand september middenin hart nederlands verki...   \n",
       "\n",
       "                                               total  nature  history  travel  \\\n",
       "0  1 euro per gesprek  bert kuizenga gaan open ge...       0        0       0   \n",
       "1  1 voor de verkiezingen  maand september midden...       0        0       0   \n",
       "\n",
       "   romantic  diversity  educational  \\\n",
       "0         0          1            0   \n",
       "1         0          0            0   \n",
       "\n",
       "                                          final_text  k_means  \n",
       "0    euro per gesprek  bert kuizga gaan op gespre...        2  \n",
       "1    voor  verkiezing  maand september midnin har...        1  "
      ]
     },
     "execution_count": 65,
     "metadata": {},
     "output_type": "execute_result"
    }
   ],
   "source": [
    "npo_df['spacy2'] = [' '.join([str(c) for c in lst]) for lst in npo_df['spacy']]\n",
    "npo_df['total'] = npo_df['titles'].astype(str) + \" \" + npo_df['spacy2'].astype(str)\n",
    "npo_df['total'] = npo_df['total'].str.lower()\n",
    "npo_df.head(2)"
   ]
  },
  {
   "cell_type": "code",
   "execution_count": 66,
   "metadata": {},
   "outputs": [],
   "source": [
    "l = ['tv', 'programma','televisie', 'serie']\n",
    "npo_df['total'] = npo_df.total.str.replace('|'.join(l), '', regex=True).str.strip()"
   ]
  },
  {
   "cell_type": "code",
   "execution_count": 67,
   "metadata": {},
   "outputs": [
    {
     "name": "stderr",
     "output_type": "stream",
     "text": [
      "C:\\Users\\ninat\\AppData\\Local\\Temp/ipykernel_27092/1350422187.py:1: FutureWarning: The default value of regex will change from True to False in a future version.\n",
      "  npo_df['final_text'] = npo_df['total'].str.replace('[^a-zA-Z]', ' ')\n"
     ]
    },
    {
     "data": {
      "text/html": [
       "<div>\n",
       "<style scoped>\n",
       "    .dataframe tbody tr th:only-of-type {\n",
       "        vertical-align: middle;\n",
       "    }\n",
       "\n",
       "    .dataframe tbody tr th {\n",
       "        vertical-align: top;\n",
       "    }\n",
       "\n",
       "    .dataframe thead th {\n",
       "        text-align: right;\n",
       "    }\n",
       "</style>\n",
       "<table border=\"1\" class=\"dataframe\">\n",
       "  <thead>\n",
       "    <tr style=\"text-align: right;\">\n",
       "      <th></th>\n",
       "      <th>titles</th>\n",
       "      <th>descriptions</th>\n",
       "      <th>pictures</th>\n",
       "      <th>ID</th>\n",
       "      <th>spacy</th>\n",
       "      <th>spacy2</th>\n",
       "      <th>total</th>\n",
       "      <th>nature</th>\n",
       "      <th>history</th>\n",
       "      <th>travel</th>\n",
       "      <th>romantic</th>\n",
       "      <th>diversity</th>\n",
       "      <th>educational</th>\n",
       "      <th>final_text</th>\n",
       "      <th>k_means</th>\n",
       "    </tr>\n",
       "  </thead>\n",
       "  <tbody>\n",
       "    <tr>\n",
       "      <th>0</th>\n",
       "      <td>1 Euro per gesprek</td>\n",
       "      <td>Bert Kuizenga gaat open in gesprek met voorbij...</td>\n",
       "      <td>https://images.npo.nl/header/2560x1440/1652869...</td>\n",
       "      <td>0</td>\n",
       "      <td>[bert, kuizenga, gaan, open, gesprek, voorbijg...</td>\n",
       "      <td>bert kuizenga gaan open gesprek voorbijganger ...</td>\n",
       "      <td>1 euro per gesprek  bert kuizenga gaan open ge...</td>\n",
       "      <td>0</td>\n",
       "      <td>0</td>\n",
       "      <td>0</td>\n",
       "      <td>0</td>\n",
       "      <td>1</td>\n",
       "      <td>0</td>\n",
       "      <td>euro per gesprek  bert kuizenga gaan open ge...</td>\n",
       "      <td>2</td>\n",
       "    </tr>\n",
       "    <tr>\n",
       "      <th>1</th>\n",
       "      <td>1 Voor de Verkiezingen</td>\n",
       "      <td>In de maand september, middenin het hart van d...</td>\n",
       "      <td>https://images.npo.nl/header/2560x1440/139875.jpg</td>\n",
       "      <td>1</td>\n",
       "      <td>[maand, september, middenin, hart, nederlands,...</td>\n",
       "      <td>maand september middenin hart nederlands verki...</td>\n",
       "      <td>1 voor de verkiezingen  maand september midden...</td>\n",
       "      <td>0</td>\n",
       "      <td>0</td>\n",
       "      <td>0</td>\n",
       "      <td>0</td>\n",
       "      <td>0</td>\n",
       "      <td>0</td>\n",
       "      <td>voor de verkiezingen  maand september midden...</td>\n",
       "      <td>1</td>\n",
       "    </tr>\n",
       "  </tbody>\n",
       "</table>\n",
       "</div>"
      ],
      "text/plain": [
       "                    titles                                       descriptions  \\\n",
       "0      1 Euro per gesprek   Bert Kuizenga gaat open in gesprek met voorbij...   \n",
       "1  1 Voor de Verkiezingen   In de maand september, middenin het hart van d...   \n",
       "\n",
       "                                            pictures  ID  \\\n",
       "0  https://images.npo.nl/header/2560x1440/1652869...   0   \n",
       "1  https://images.npo.nl/header/2560x1440/139875.jpg   1   \n",
       "\n",
       "                                               spacy  \\\n",
       "0  [bert, kuizenga, gaan, open, gesprek, voorbijg...   \n",
       "1  [maand, september, middenin, hart, nederlands,...   \n",
       "\n",
       "                                              spacy2  \\\n",
       "0  bert kuizenga gaan open gesprek voorbijganger ...   \n",
       "1  maand september middenin hart nederlands verki...   \n",
       "\n",
       "                                               total  nature  history  travel  \\\n",
       "0  1 euro per gesprek  bert kuizenga gaan open ge...       0        0       0   \n",
       "1  1 voor de verkiezingen  maand september midden...       0        0       0   \n",
       "\n",
       "   romantic  diversity  educational  \\\n",
       "0         0          1            0   \n",
       "1         0          0            0   \n",
       "\n",
       "                                          final_text  k_means  \n",
       "0    euro per gesprek  bert kuizenga gaan open ge...        2  \n",
       "1    voor de verkiezingen  maand september midden...        1  "
      ]
     },
     "execution_count": 67,
     "metadata": {},
     "output_type": "execute_result"
    }
   ],
   "source": [
    "npo_df['final_text'] = npo_df['total'].str.replace('[^a-zA-Z]', ' ')\n",
    "npo_df.head(2)"
   ]
  },
  {
   "cell_type": "markdown",
   "metadata": {},
   "source": [
    "# The genre labeling"
   ]
  },
  {
   "cell_type": "code",
   "execution_count": 126,
   "metadata": {},
   "outputs": [],
   "source": [
    "nature = ['natuur', 'de jungle', 'de oceaan', 'dieren', 'milieu', 'klimaat', 'onder water', 'wildernis', 'onderwaterleven', 'waddeneiland']\n",
    "history = ['geschiedenis','jaar geleden','val van de muur','berlijnse muur','oorlog','joodse leven','joodse familie','gouden eeuw','koloniale','kruistocht','1935','1936','1937','1938','1939','1940','1941','1942','1943','1944','1945','1946','1947','1948','1949','1950','1951','1952','1953','1954','1955','1956','1957','1958','1959','1960','1961','1962','1963','1964','1965','1966','1967','1968','1969','1970','1971','1972','1973','1974','1975','1976','1977','1978','1979','1980','1981','1982','1983','1984','1985','1986','1987','1988','1989','1990','1991','1992','1993','1994','1995','1996','1997','1998']\n",
    "travel = ['reis', 'reizen']\n",
    "romantic = [ 'romantiek','romantisch', 'liefde','verliefd', 'trouwen','huwelijk']\n",
    "diversity = ['subculturen', 'culturen','gemeenschappen', 'samenleving','religie', 'religies','suriname', 'islam','islamitische', 'hindoe','christelijk','indiase', 'seksualiteit']\n",
    "crime = ['politie', 'recherche', 'flikken', 'geheime diensten', 'agent', 'recherche', 'smeris', 'spoorloos']\n",
    "action = ['killing eve', 'thriller', 'misdaad', 'moord', 'maffia']\n",
    "politiek = ['politiek', 'minister', 'president', 'politici', 'rutte']\n",
    "teen = ['npo zapp', 'tieners','vlogger', 'verliefd op','van god', 'teenage', 'populaire popgroep', 'vlogs', 'mattie', 'matties', 'kinderen voor', \"new musical\", \"ali b\"]\n",
    "reality = ['boer zoekt', 'the great british', 'vier handen', 'is de mol', 'rijdende rechter', 'baby te huur', 'dream school', 'reality', 'first dates', 'streetlab', 'singles', 'reallife']\n",
    "educational = ['aardrijkskunde','scheikunde','aarde','techniek','educatief','het nieuws','biologische','natuurkundig','natuurkunde','wetenschap']"
   ]
  },
  {
   "cell_type": "code",
   "execution_count": 127,
   "metadata": {},
   "outputs": [
    {
     "data": {
      "text/plain": [
       "0    2580\n",
       "1     118\n",
       "Name: nature, dtype: int64"
      ]
     },
     "execution_count": 127,
     "metadata": {},
     "output_type": "execute_result"
    }
   ],
   "source": [
    "nat = []\n",
    "\n",
    "for i in npo_df.total:\n",
    "    if any(p in i for p in nature):\n",
    "        nat.append(1)\n",
    "    else:\n",
    "        nat.append(0)\n",
    "        \n",
    "npo_df['nature'] = nat\n",
    "npo_df.nature.value_counts()"
   ]
  },
  {
   "cell_type": "code",
   "execution_count": 128,
   "metadata": {},
   "outputs": [
    {
     "data": {
      "text/plain": [
       "0    2549\n",
       "1     149\n",
       "Name: history, dtype: int64"
      ]
     },
     "execution_count": 128,
     "metadata": {},
     "output_type": "execute_result"
    }
   ],
   "source": [
    "his = []\n",
    "\n",
    "for i in npo_df.total:\n",
    "    if any(p in i for p in history):\n",
    "        his.append(1)\n",
    "    else:\n",
    "        his.append(0)\n",
    "        \n",
    "npo_df['history'] = his\n",
    "npo_df.history.value_counts()"
   ]
  },
  {
   "cell_type": "code",
   "execution_count": 129,
   "metadata": {},
   "outputs": [
    {
     "data": {
      "text/plain": [
       "0    2537\n",
       "1     161\n",
       "Name: travel, dtype: int64"
      ]
     },
     "execution_count": 129,
     "metadata": {},
     "output_type": "execute_result"
    }
   ],
   "source": [
    "tra = []\n",
    "\n",
    "for i in npo_df.total:\n",
    "    if any(p in i for p in travel):\n",
    "        tra.append(1)\n",
    "    else:\n",
    "        tra.append(0)\n",
    "        \n",
    "npo_df['travel'] = tra\n",
    "npo_df.travel.value_counts()"
   ]
  },
  {
   "cell_type": "code",
   "execution_count": 130,
   "metadata": {},
   "outputs": [
    {
     "data": {
      "text/plain": [
       "0    2586\n",
       "1     112\n",
       "Name: romantic, dtype: int64"
      ]
     },
     "execution_count": 130,
     "metadata": {},
     "output_type": "execute_result"
    }
   ],
   "source": [
    "rom = []\n",
    "\n",
    "for i in npo_df.total:\n",
    "    if any(p in i for p in romantic):\n",
    "        rom.append(1)\n",
    "    else:\n",
    "        rom.append(0)\n",
    "        \n",
    "npo_df['romantic'] = rom\n",
    "npo_df.romantic.value_counts()"
   ]
  },
  {
   "cell_type": "code",
   "execution_count": 131,
   "metadata": {},
   "outputs": [
    {
     "data": {
      "text/plain": [
       "0    2567\n",
       "1     131\n",
       "Name: diversity, dtype: int64"
      ]
     },
     "execution_count": 131,
     "metadata": {},
     "output_type": "execute_result"
    }
   ],
   "source": [
    "div = []\n",
    "\n",
    "for i in npo_df.total:\n",
    "    if any(p in i for p in diversity):\n",
    "        div.append(1)\n",
    "    else:\n",
    "        div.append(0)\n",
    "        \n",
    "npo_df['diversity'] = div\n",
    "npo_df.diversity.value_counts()"
   ]
  },
  {
   "cell_type": "code",
   "execution_count": 132,
   "metadata": {},
   "outputs": [
    {
     "data": {
      "text/plain": [
       "0    2582\n",
       "1     116\n",
       "Name: educational, dtype: int64"
      ]
     },
     "execution_count": 132,
     "metadata": {},
     "output_type": "execute_result"
    }
   ],
   "source": [
    "edu = []\n",
    "\n",
    "for i in npo_df.total:\n",
    "    if any(p in i for p in educational):\n",
    "        edu.append(1)\n",
    "    else:\n",
    "        edu.append(0)\n",
    "        \n",
    "npo_df['educational'] = edu\n",
    "npo_df.educational.value_counts()"
   ]
  },
  {
   "cell_type": "code",
   "execution_count": 133,
   "metadata": {},
   "outputs": [
    {
     "data": {
      "text/plain": [
       "0    2570\n",
       "1     128\n",
       "Name: crime, dtype: int64"
      ]
     },
     "execution_count": 133,
     "metadata": {},
     "output_type": "execute_result"
    }
   ],
   "source": [
    "cri = []\n",
    "\n",
    "for i in npo_df.total:\n",
    "    if any(p in i for p in crime):\n",
    "        cri.append(1)\n",
    "    else:\n",
    "        cri.append(0)\n",
    "        \n",
    "npo_df['crime'] = cri\n",
    "npo_df.crime.value_counts()"
   ]
  },
  {
   "cell_type": "code",
   "execution_count": 134,
   "metadata": {},
   "outputs": [
    {
     "data": {
      "text/plain": [
       "0    2631\n",
       "1      67\n",
       "Name: action, dtype: int64"
      ]
     },
     "execution_count": 134,
     "metadata": {},
     "output_type": "execute_result"
    }
   ],
   "source": [
    "act = []\n",
    "\n",
    "for i in npo_df.total:\n",
    "    if any(p in i for p in action):\n",
    "        act.append(1)\n",
    "    else:\n",
    "        act.append(0)\n",
    "        \n",
    "npo_df['action'] = act\n",
    "npo_df.action.value_counts()"
   ]
  },
  {
   "cell_type": "code",
   "execution_count": 135,
   "metadata": {},
   "outputs": [
    {
     "data": {
      "text/plain": [
       "0    2617\n",
       "1      81\n",
       "Name: politics, dtype: int64"
      ]
     },
     "execution_count": 135,
     "metadata": {},
     "output_type": "execute_result"
    }
   ],
   "source": [
    "pol = []\n",
    "\n",
    "for i in npo_df.total:\n",
    "    if any(p in i for p in politiek):\n",
    "        pol.append(1)\n",
    "    else:\n",
    "        pol.append(0)\n",
    "        \n",
    "npo_df['politics'] = pol\n",
    "npo_df.politics.value_counts()"
   ]
  },
  {
   "cell_type": "code",
   "execution_count": 136,
   "metadata": {},
   "outputs": [
    {
     "data": {
      "text/plain": [
       "0    2675\n",
       "1      23\n",
       "Name: teen, dtype: int64"
      ]
     },
     "execution_count": 136,
     "metadata": {},
     "output_type": "execute_result"
    }
   ],
   "source": [
    "tee = []\n",
    "\n",
    "for i in npo_df.total:\n",
    "    if any(p in i for p in teen):\n",
    "        tee.append(1)\n",
    "    else:\n",
    "        tee.append(0)\n",
    "        \n",
    "npo_df['teen'] = tee\n",
    "npo_df.teen.value_counts()"
   ]
  },
  {
   "cell_type": "code",
   "execution_count": 137,
   "metadata": {},
   "outputs": [
    {
     "data": {
      "text/plain": [
       "0    2664\n",
       "1      34\n",
       "Name: reality, dtype: int64"
      ]
     },
     "execution_count": 137,
     "metadata": {},
     "output_type": "execute_result"
    }
   ],
   "source": [
    "rea = []\n",
    "\n",
    "for i in npo_df.total:\n",
    "    if any(p in i for p in reality):\n",
    "        rea.append(1)\n",
    "    else:\n",
    "        rea.append(0)\n",
    "        \n",
    "npo_df['reality'] = rea\n",
    "npo_df.reality.value_counts()"
   ]
  },
  {
   "cell_type": "markdown",
   "metadata": {},
   "source": [
    "# The clustering"
   ]
  },
  {
   "cell_type": "code",
   "execution_count": 138,
   "metadata": {},
   "outputs": [
    {
     "name": "stderr",
     "output_type": "stream",
     "text": [
      "c:\\users\\ninat\\appdata\\local\\programs\\python\\python39\\lib\\site-packages\\sklearn\\utils\\deprecation.py:87: FutureWarning: Function get_feature_names is deprecated; get_feature_names is deprecated in 1.0 and will be removed in 1.2. Please use get_feature_names_out instead.\n",
      "  warnings.warn(msg, category=FutureWarning)\n"
     ]
    },
    {
     "data": {
      "text/html": [
       "<div>\n",
       "<style scoped>\n",
       "    .dataframe tbody tr th:only-of-type {\n",
       "        vertical-align: middle;\n",
       "    }\n",
       "\n",
       "    .dataframe tbody tr th {\n",
       "        vertical-align: top;\n",
       "    }\n",
       "\n",
       "    .dataframe thead th {\n",
       "        text-align: right;\n",
       "    }\n",
       "</style>\n",
       "<table border=\"1\" class=\"dataframe\">\n",
       "  <thead>\n",
       "    <tr style=\"text-align: right;\">\n",
       "      <th></th>\n",
       "      <th>aan</th>\n",
       "      <th>aanbieden</th>\n",
       "      <th>aanbod</th>\n",
       "      <th>aandacht</th>\n",
       "      <th>aandeel</th>\n",
       "      <th>aandoening</th>\n",
       "      <th>aangaan</th>\n",
       "      <th>aangenaam</th>\n",
       "      <th>aanhanger</th>\n",
       "      <th>aankaarten</th>\n",
       "      <th>...</th>\n",
       "      <th>zwangerschap</th>\n",
       "      <th>zwart</th>\n",
       "      <th>zwarte</th>\n",
       "      <th>zweden</th>\n",
       "      <th>zweeds</th>\n",
       "      <th>zweet</th>\n",
       "      <th>zwembad</th>\n",
       "      <th>zwemmen</th>\n",
       "      <th>zwitsers</th>\n",
       "      <th>zwolle</th>\n",
       "    </tr>\n",
       "  </thead>\n",
       "  <tbody>\n",
       "    <tr>\n",
       "      <th>0</th>\n",
       "      <td>0.0</td>\n",
       "      <td>0.0</td>\n",
       "      <td>0.0</td>\n",
       "      <td>0.0</td>\n",
       "      <td>0.0</td>\n",
       "      <td>0.0</td>\n",
       "      <td>0.0</td>\n",
       "      <td>0.0</td>\n",
       "      <td>0.0</td>\n",
       "      <td>0.0</td>\n",
       "      <td>...</td>\n",
       "      <td>0.0</td>\n",
       "      <td>0.000000</td>\n",
       "      <td>0.000000</td>\n",
       "      <td>0.0</td>\n",
       "      <td>0.0</td>\n",
       "      <td>0.0</td>\n",
       "      <td>0.0</td>\n",
       "      <td>0.0</td>\n",
       "      <td>0.0</td>\n",
       "      <td>0.0</td>\n",
       "    </tr>\n",
       "    <tr>\n",
       "      <th>1</th>\n",
       "      <td>0.0</td>\n",
       "      <td>0.0</td>\n",
       "      <td>0.0</td>\n",
       "      <td>0.0</td>\n",
       "      <td>0.0</td>\n",
       "      <td>0.0</td>\n",
       "      <td>0.0</td>\n",
       "      <td>0.0</td>\n",
       "      <td>0.0</td>\n",
       "      <td>0.0</td>\n",
       "      <td>...</td>\n",
       "      <td>0.0</td>\n",
       "      <td>0.000000</td>\n",
       "      <td>0.000000</td>\n",
       "      <td>0.0</td>\n",
       "      <td>0.0</td>\n",
       "      <td>0.0</td>\n",
       "      <td>0.0</td>\n",
       "      <td>0.0</td>\n",
       "      <td>0.0</td>\n",
       "      <td>0.0</td>\n",
       "    </tr>\n",
       "    <tr>\n",
       "      <th>2</th>\n",
       "      <td>0.0</td>\n",
       "      <td>0.0</td>\n",
       "      <td>0.0</td>\n",
       "      <td>0.0</td>\n",
       "      <td>0.0</td>\n",
       "      <td>0.0</td>\n",
       "      <td>0.0</td>\n",
       "      <td>0.0</td>\n",
       "      <td>0.0</td>\n",
       "      <td>0.0</td>\n",
       "      <td>...</td>\n",
       "      <td>0.0</td>\n",
       "      <td>0.000000</td>\n",
       "      <td>0.000000</td>\n",
       "      <td>0.0</td>\n",
       "      <td>0.0</td>\n",
       "      <td>0.0</td>\n",
       "      <td>0.0</td>\n",
       "      <td>0.0</td>\n",
       "      <td>0.0</td>\n",
       "      <td>0.0</td>\n",
       "    </tr>\n",
       "    <tr>\n",
       "      <th>3</th>\n",
       "      <td>0.0</td>\n",
       "      <td>0.0</td>\n",
       "      <td>0.0</td>\n",
       "      <td>0.0</td>\n",
       "      <td>0.0</td>\n",
       "      <td>0.0</td>\n",
       "      <td>0.0</td>\n",
       "      <td>0.0</td>\n",
       "      <td>0.0</td>\n",
       "      <td>0.0</td>\n",
       "      <td>...</td>\n",
       "      <td>0.0</td>\n",
       "      <td>0.000000</td>\n",
       "      <td>0.000000</td>\n",
       "      <td>0.0</td>\n",
       "      <td>0.0</td>\n",
       "      <td>0.0</td>\n",
       "      <td>0.0</td>\n",
       "      <td>0.0</td>\n",
       "      <td>0.0</td>\n",
       "      <td>0.0</td>\n",
       "    </tr>\n",
       "    <tr>\n",
       "      <th>4</th>\n",
       "      <td>0.0</td>\n",
       "      <td>0.0</td>\n",
       "      <td>0.0</td>\n",
       "      <td>0.0</td>\n",
       "      <td>0.0</td>\n",
       "      <td>0.0</td>\n",
       "      <td>0.0</td>\n",
       "      <td>0.0</td>\n",
       "      <td>0.0</td>\n",
       "      <td>0.0</td>\n",
       "      <td>...</td>\n",
       "      <td>0.0</td>\n",
       "      <td>0.000000</td>\n",
       "      <td>0.000000</td>\n",
       "      <td>0.0</td>\n",
       "      <td>0.0</td>\n",
       "      <td>0.0</td>\n",
       "      <td>0.0</td>\n",
       "      <td>0.0</td>\n",
       "      <td>0.0</td>\n",
       "      <td>0.0</td>\n",
       "    </tr>\n",
       "    <tr>\n",
       "      <th>...</th>\n",
       "      <td>...</td>\n",
       "      <td>...</td>\n",
       "      <td>...</td>\n",
       "      <td>...</td>\n",
       "      <td>...</td>\n",
       "      <td>...</td>\n",
       "      <td>...</td>\n",
       "      <td>...</td>\n",
       "      <td>...</td>\n",
       "      <td>...</td>\n",
       "      <td>...</td>\n",
       "      <td>...</td>\n",
       "      <td>...</td>\n",
       "      <td>...</td>\n",
       "      <td>...</td>\n",
       "      <td>...</td>\n",
       "      <td>...</td>\n",
       "      <td>...</td>\n",
       "      <td>...</td>\n",
       "      <td>...</td>\n",
       "      <td>...</td>\n",
       "    </tr>\n",
       "    <tr>\n",
       "      <th>2693</th>\n",
       "      <td>0.0</td>\n",
       "      <td>0.0</td>\n",
       "      <td>0.0</td>\n",
       "      <td>0.0</td>\n",
       "      <td>0.0</td>\n",
       "      <td>0.0</td>\n",
       "      <td>0.0</td>\n",
       "      <td>0.0</td>\n",
       "      <td>0.0</td>\n",
       "      <td>0.0</td>\n",
       "      <td>...</td>\n",
       "      <td>0.0</td>\n",
       "      <td>0.000000</td>\n",
       "      <td>0.000000</td>\n",
       "      <td>0.0</td>\n",
       "      <td>0.0</td>\n",
       "      <td>0.0</td>\n",
       "      <td>0.0</td>\n",
       "      <td>0.0</td>\n",
       "      <td>0.0</td>\n",
       "      <td>0.0</td>\n",
       "    </tr>\n",
       "    <tr>\n",
       "      <th>2694</th>\n",
       "      <td>0.0</td>\n",
       "      <td>0.0</td>\n",
       "      <td>0.0</td>\n",
       "      <td>0.0</td>\n",
       "      <td>0.0</td>\n",
       "      <td>0.0</td>\n",
       "      <td>0.0</td>\n",
       "      <td>0.0</td>\n",
       "      <td>0.0</td>\n",
       "      <td>0.0</td>\n",
       "      <td>...</td>\n",
       "      <td>0.0</td>\n",
       "      <td>0.000000</td>\n",
       "      <td>0.000000</td>\n",
       "      <td>0.0</td>\n",
       "      <td>0.0</td>\n",
       "      <td>0.0</td>\n",
       "      <td>0.0</td>\n",
       "      <td>0.0</td>\n",
       "      <td>0.0</td>\n",
       "      <td>0.0</td>\n",
       "    </tr>\n",
       "    <tr>\n",
       "      <th>2695</th>\n",
       "      <td>0.0</td>\n",
       "      <td>0.0</td>\n",
       "      <td>0.0</td>\n",
       "      <td>0.0</td>\n",
       "      <td>0.0</td>\n",
       "      <td>0.0</td>\n",
       "      <td>0.0</td>\n",
       "      <td>0.0</td>\n",
       "      <td>0.0</td>\n",
       "      <td>0.0</td>\n",
       "      <td>...</td>\n",
       "      <td>0.0</td>\n",
       "      <td>0.000000</td>\n",
       "      <td>0.000000</td>\n",
       "      <td>0.0</td>\n",
       "      <td>0.0</td>\n",
       "      <td>0.0</td>\n",
       "      <td>0.0</td>\n",
       "      <td>0.0</td>\n",
       "      <td>0.0</td>\n",
       "      <td>0.0</td>\n",
       "    </tr>\n",
       "    <tr>\n",
       "      <th>2696</th>\n",
       "      <td>0.0</td>\n",
       "      <td>0.0</td>\n",
       "      <td>0.0</td>\n",
       "      <td>0.0</td>\n",
       "      <td>0.0</td>\n",
       "      <td>0.0</td>\n",
       "      <td>0.0</td>\n",
       "      <td>0.0</td>\n",
       "      <td>0.0</td>\n",
       "      <td>0.0</td>\n",
       "      <td>...</td>\n",
       "      <td>0.0</td>\n",
       "      <td>0.000000</td>\n",
       "      <td>0.000000</td>\n",
       "      <td>0.0</td>\n",
       "      <td>0.0</td>\n",
       "      <td>0.0</td>\n",
       "      <td>0.0</td>\n",
       "      <td>0.0</td>\n",
       "      <td>0.0</td>\n",
       "      <td>0.0</td>\n",
       "    </tr>\n",
       "    <tr>\n",
       "      <th>2697</th>\n",
       "      <td>0.0</td>\n",
       "      <td>0.0</td>\n",
       "      <td>0.0</td>\n",
       "      <td>0.0</td>\n",
       "      <td>0.0</td>\n",
       "      <td>0.0</td>\n",
       "      <td>0.0</td>\n",
       "      <td>0.0</td>\n",
       "      <td>0.0</td>\n",
       "      <td>0.0</td>\n",
       "      <td>...</td>\n",
       "      <td>0.0</td>\n",
       "      <td>0.382763</td>\n",
       "      <td>0.452728</td>\n",
       "      <td>0.0</td>\n",
       "      <td>0.0</td>\n",
       "      <td>0.0</td>\n",
       "      <td>0.0</td>\n",
       "      <td>0.0</td>\n",
       "      <td>0.0</td>\n",
       "      <td>0.0</td>\n",
       "    </tr>\n",
       "  </tbody>\n",
       "</table>\n",
       "<p>2698 rows × 5238 columns</p>\n",
       "</div>"
      ],
      "text/plain": [
       "      aan  aanbieden  aanbod  aandacht  aandeel  aandoening  aangaan  \\\n",
       "0     0.0        0.0     0.0       0.0      0.0         0.0      0.0   \n",
       "1     0.0        0.0     0.0       0.0      0.0         0.0      0.0   \n",
       "2     0.0        0.0     0.0       0.0      0.0         0.0      0.0   \n",
       "3     0.0        0.0     0.0       0.0      0.0         0.0      0.0   \n",
       "4     0.0        0.0     0.0       0.0      0.0         0.0      0.0   \n",
       "...   ...        ...     ...       ...      ...         ...      ...   \n",
       "2693  0.0        0.0     0.0       0.0      0.0         0.0      0.0   \n",
       "2694  0.0        0.0     0.0       0.0      0.0         0.0      0.0   \n",
       "2695  0.0        0.0     0.0       0.0      0.0         0.0      0.0   \n",
       "2696  0.0        0.0     0.0       0.0      0.0         0.0      0.0   \n",
       "2697  0.0        0.0     0.0       0.0      0.0         0.0      0.0   \n",
       "\n",
       "      aangenaam  aanhanger  aankaarten  ...  zwangerschap     zwart    zwarte  \\\n",
       "0           0.0        0.0         0.0  ...           0.0  0.000000  0.000000   \n",
       "1           0.0        0.0         0.0  ...           0.0  0.000000  0.000000   \n",
       "2           0.0        0.0         0.0  ...           0.0  0.000000  0.000000   \n",
       "3           0.0        0.0         0.0  ...           0.0  0.000000  0.000000   \n",
       "4           0.0        0.0         0.0  ...           0.0  0.000000  0.000000   \n",
       "...         ...        ...         ...  ...           ...       ...       ...   \n",
       "2693        0.0        0.0         0.0  ...           0.0  0.000000  0.000000   \n",
       "2694        0.0        0.0         0.0  ...           0.0  0.000000  0.000000   \n",
       "2695        0.0        0.0         0.0  ...           0.0  0.000000  0.000000   \n",
       "2696        0.0        0.0         0.0  ...           0.0  0.000000  0.000000   \n",
       "2697        0.0        0.0         0.0  ...           0.0  0.382763  0.452728   \n",
       "\n",
       "      zweden  zweeds  zweet  zwembad  zwemmen  zwitsers  zwolle  \n",
       "0        0.0     0.0    0.0      0.0      0.0       0.0     0.0  \n",
       "1        0.0     0.0    0.0      0.0      0.0       0.0     0.0  \n",
       "2        0.0     0.0    0.0      0.0      0.0       0.0     0.0  \n",
       "3        0.0     0.0    0.0      0.0      0.0       0.0     0.0  \n",
       "4        0.0     0.0    0.0      0.0      0.0       0.0     0.0  \n",
       "...      ...     ...    ...      ...      ...       ...     ...  \n",
       "2693     0.0     0.0    0.0      0.0      0.0       0.0     0.0  \n",
       "2694     0.0     0.0    0.0      0.0      0.0       0.0     0.0  \n",
       "2695     0.0     0.0    0.0      0.0      0.0       0.0     0.0  \n",
       "2696     0.0     0.0    0.0      0.0      0.0       0.0     0.0  \n",
       "2697     0.0     0.0    0.0      0.0      0.0       0.0     0.0  \n",
       "\n",
       "[2698 rows x 5238 columns]"
      ]
     },
     "execution_count": 138,
     "metadata": {},
     "output_type": "execute_result"
    }
   ],
   "source": [
    "from sklearn.feature_extraction.text import TfidfVectorizer\n",
    "from sklearn.cluster import KMeans\n",
    "from sklearn import cluster\n",
    "\n",
    "vectorizer = TfidfVectorizer(min_df=2, max_df=0.9, norm='l2')\n",
    "X = vectorizer.fit_transform(npo_df.final_text.values.astype('str'))\n",
    "tf_idf = pd.DataFrame(data = X.toarray(), columns=vectorizer.get_feature_names())\n",
    "tf_idf"
   ]
  },
  {
   "cell_type": "code",
   "execution_count": 139,
   "metadata": {},
   "outputs": [
    {
     "name": "stderr",
     "output_type": "stream",
     "text": [
      "c:\\users\\ninat\\appdata\\local\\programs\\python\\python39\\lib\\site-packages\\sklearn\\utils\\deprecation.py:87: FutureWarning: Function get_feature_names is deprecated; get_feature_names is deprecated in 1.0 and will be removed in 1.2. Please use get_feature_names_out instead.\n",
      "  warnings.warn(msg, category=FutureWarning)\n"
     ]
    },
    {
     "data": {
      "text/plain": [
       "1     950\n",
       "10    223\n",
       "7     158\n",
       "0     149\n",
       "11    145\n",
       "5     143\n",
       "13    143\n",
       "12    123\n",
       "2     118\n",
       "14    116\n",
       "8     101\n",
       "9      98\n",
       "4      80\n",
       "3      78\n",
       "6      73\n",
       "Name: k_means, dtype: int64"
      ]
     },
     "execution_count": 139,
     "metadata": {},
     "output_type": "execute_result"
    }
   ],
   "source": [
    "vectorizer = TfidfVectorizer(min_df=2, max_df=0.9, norm='l2')\n",
    "X = vectorizer.fit_transform(npo_df.final_text.values.astype('str'))\n",
    "tf_idf = pd.DataFrame(data = X.toarray(), columns=vectorizer.get_feature_names())\n",
    "tf_idf\n",
    "\n",
    "clusters = 15\n",
    "kmeanModel = KMeans(n_clusters=clusters, init='k-means++', max_iter=3000, random_state=0)\n",
    "mod = kmeanModel.fit_transform(tf_idf)\n",
    "npo_df['k_means'] = kmeanModel.predict(tf_idf)\n",
    "\n",
    "npo_df.k_means.value_counts()"
   ]
  },
  {
   "cell_type": "code",
   "execution_count": 140,
   "metadata": {
    "scrolled": true
   },
   "outputs": [
    {
     "name": "stdout",
     "output_type": "stream",
     "text": [
      "0, leven, mens, dood, komen, documentaire, van, de, werk, staan, dagelijks, vrouw, gaan, het, volgen, nieuw, vraag, gesprek, hindoe, jaar, belangrijk, \n",
      "1, jaar, maken, komen, the, mens, gaan, bekend, krijgen, max, en, nieuw, het, staan, jan, documentaire, volgen, goed, van, zien, dag, \n",
      "2, jong, jaar, volgen, gaan, leven, mens, komen, probleem, leeftijd, talent, vrouw, krijgen, oud, de, documentaire, strijd, prinses, experiment, laten, confronteren, \n",
      "3, avontuur, animatie, beleven, vriend, spannend, muis, klein, wonen, jongen, vrolijk, meisje, goed, zappelin, knofje, de, nieuw, pip, beer, joe, kind, \n",
      "4, nos, verslag, koningin, voetbal, koning, laat, beatrix, nieuws, journaal, alexander, sport, jaar, ek, samenvatting, willem, live, studio, xima, nationaal, belangrijk, \n",
      "5, wereld, de, mens, duiken, van, nemen, bekend, zien, jaar, reizen, goed, laten, kijker, uniek, wetenschap, maken, verhaal, bijzonder, jong, wonder, \n",
      "6, klas, filemon, de, gaan, in, lichaam, onderwerp, menselijk, behandelen, aflevering, onderzoek, invloed, biologie, van, ersin, leerling, politie, groep, wesselink, mens, \n",
      "7, groot, concert, hit, jaar, nieuw, in, frans, artiest, komen, live, andr, zien, nederland, lied, laten, maken, leven, the, optreden, brengen, \n",
      "8, land, internationaal, doc, zien, reizen, mens, groot, cultureel, de, jaar, documentaire, gaan, amsterdam, ek, in, man, holland, komen, pauw, trekken, \n",
      "9, reis, europa, mooi, presentator, verhaal, de, bnn, gaan, op, reizen, maken, jaar, geschiedenis, van, goed, roadtrip, jazz, man, het, nederland, \n",
      "10, de, van, in, jaar, oorlog, bekend, op, mens, onderzoeken, gast, volgen, tweede, staan, praten, verhaal, jaren, dag, nemen, geschiedenis, het, \n",
      "11, nederland, de, maken, van, in, jaar, verhaal, documentaire, nederlanders, land, leven, zien, bekend, mens, komen, gaan, zoek, het, geschiedenis, onderzoeken, \n",
      "12, nederlands, de, geschiedenis, film, gaan, groot, nederland, jaar, nl, leven, goed, zien, drama, documentaire, kort, vertellen, nieuw, spelen, uniek, jan, \n",
      "13, gaan, zoek, zien, ik, maken, laten, verhaal, vraag, het, antwoord, documentaire, tijd, mens, goed, leven, nederland, liefde, de, verleden, vinden, \n",
      "14, kind, vader, gezin, ouder, moeder, leven, jong, gaan, verhaal, volgen, vertellen, de, volwassen, maken, vragen, verschillend, zien, jaar, jeugd, drama, \n"
     ]
    },
    {
     "name": "stderr",
     "output_type": "stream",
     "text": [
      "c:\\users\\ninat\\appdata\\local\\programs\\python\\python39\\lib\\site-packages\\sklearn\\utils\\deprecation.py:87: FutureWarning: Function get_feature_names is deprecated; get_feature_names is deprecated in 1.0 and will be removed in 1.2. Please use get_feature_names_out instead.\n",
      "  warnings.warn(msg, category=FutureWarning)\n"
     ]
    }
   ],
   "source": [
    "order_centroids = kmeanModel.cluster_centers_.argsort()[:, ::-1]\n",
    "terms = vectorizer.get_feature_names()\n",
    "dict = []\n",
    "for i in range(15):\n",
    "  print('%d' % i, sep='', end=', '),\n",
    "  for ind in order_centroids[i, :20]:\n",
    "    print(terms[ind], sep='', end=', ')\n",
    "  print('')"
   ]
  },
  {
   "cell_type": "code",
   "execution_count": 150,
   "metadata": {},
   "outputs": [],
   "source": [
    "# sampled dfs because we had too much content\n",
    "\n",
    "dfs=[]\n",
    "\n",
    "for i in range(15):\n",
    "    df_i = npo_df[npo_df['k_means']==i]\n",
    "    df_s = df_i.sample(50)\n",
    "    dfs.append(df_s)\n",
    "    "
   ]
  },
  {
   "cell_type": "code",
   "execution_count": 142,
   "metadata": {},
   "outputs": [
    {
     "data": {
      "text/html": [
       "<div>\n",
       "<style scoped>\n",
       "    .dataframe tbody tr th:only-of-type {\n",
       "        vertical-align: middle;\n",
       "    }\n",
       "\n",
       "    .dataframe tbody tr th {\n",
       "        vertical-align: top;\n",
       "    }\n",
       "\n",
       "    .dataframe thead th {\n",
       "        text-align: right;\n",
       "    }\n",
       "</style>\n",
       "<table border=\"1\" class=\"dataframe\">\n",
       "  <thead>\n",
       "    <tr style=\"text-align: right;\">\n",
       "      <th></th>\n",
       "      <th>titles</th>\n",
       "      <th>descriptions</th>\n",
       "      <th>pictures</th>\n",
       "      <th>ID</th>\n",
       "      <th>spacy</th>\n",
       "      <th>spacy2</th>\n",
       "      <th>total</th>\n",
       "      <th>nature</th>\n",
       "      <th>history</th>\n",
       "      <th>travel</th>\n",
       "      <th>romantic</th>\n",
       "      <th>diversity</th>\n",
       "      <th>educational</th>\n",
       "      <th>final_text</th>\n",
       "      <th>k_means</th>\n",
       "      <th>crime</th>\n",
       "      <th>action</th>\n",
       "      <th>politics</th>\n",
       "      <th>teen</th>\n",
       "      <th>reality</th>\n",
       "    </tr>\n",
       "  </thead>\n",
       "  <tbody>\n",
       "    <tr>\n",
       "      <th>100</th>\n",
       "      <td>Ali B geeft antwoord</td>\n",
       "      <td>Theatervoorstelling. Het publiek mag Ali B het...</td>\n",
       "      <td>https://images.npo.nl/header/2560x1440/217219.jpg</td>\n",
       "      <td>91</td>\n",
       "      <td>[theatervoorstelling, publiek, ali, b, hemd, l...</td>\n",
       "      <td>theatervoorstelling publiek ali b hemd lijf vr...</td>\n",
       "      <td>ali b geeft antwoord  theatervoorstelling publ...</td>\n",
       "      <td>0</td>\n",
       "      <td>0</td>\n",
       "      <td>0</td>\n",
       "      <td>1</td>\n",
       "      <td>0</td>\n",
       "      <td>1</td>\n",
       "      <td>ali b geeft antwoord  theatervoorstelling publ...</td>\n",
       "      <td>0</td>\n",
       "      <td>0</td>\n",
       "      <td>0</td>\n",
       "      <td>0</td>\n",
       "      <td>1</td>\n",
       "      <td>0</td>\n",
       "    </tr>\n",
       "    <tr>\n",
       "      <th>1537</th>\n",
       "      <td>Leven in de Brouwerij</td>\n",
       "      <td>Bierliefhebber Patrick Stoof neemt vriend Kasp...</td>\n",
       "      <td>https://images.npo.nl/header/2560x1440/leven_i...</td>\n",
       "      <td>1462</td>\n",
       "      <td>[bierliefhebber, patrick, stoof, nemen, vriend...</td>\n",
       "      <td>bierliefhebber patrick stoof nemen vriend kasp...</td>\n",
       "      <td>leven in de brouwerij  bierliefhebber patrick ...</td>\n",
       "      <td>0</td>\n",
       "      <td>0</td>\n",
       "      <td>0</td>\n",
       "      <td>0</td>\n",
       "      <td>0</td>\n",
       "      <td>0</td>\n",
       "      <td>leven in de brouwerij  bierliefhebber patrick ...</td>\n",
       "      <td>0</td>\n",
       "      <td>0</td>\n",
       "      <td>0</td>\n",
       "      <td>0</td>\n",
       "      <td>0</td>\n",
       "      <td>0</td>\n",
       "    </tr>\n",
       "  </tbody>\n",
       "</table>\n",
       "</div>"
      ],
      "text/plain": [
       "                      titles  \\\n",
       "100    Ali B geeft antwoord    \n",
       "1537  Leven in de Brouwerij    \n",
       "\n",
       "                                           descriptions  \\\n",
       "100   Theatervoorstelling. Het publiek mag Ali B het...   \n",
       "1537  Bierliefhebber Patrick Stoof neemt vriend Kasp...   \n",
       "\n",
       "                                               pictures    ID  \\\n",
       "100   https://images.npo.nl/header/2560x1440/217219.jpg    91   \n",
       "1537  https://images.npo.nl/header/2560x1440/leven_i...  1462   \n",
       "\n",
       "                                                  spacy  \\\n",
       "100   [theatervoorstelling, publiek, ali, b, hemd, l...   \n",
       "1537  [bierliefhebber, patrick, stoof, nemen, vriend...   \n",
       "\n",
       "                                                 spacy2  \\\n",
       "100   theatervoorstelling publiek ali b hemd lijf vr...   \n",
       "1537  bierliefhebber patrick stoof nemen vriend kasp...   \n",
       "\n",
       "                                                  total  nature  history  \\\n",
       "100   ali b geeft antwoord  theatervoorstelling publ...       0        0   \n",
       "1537  leven in de brouwerij  bierliefhebber patrick ...       0        0   \n",
       "\n",
       "      travel  romantic  diversity  educational  \\\n",
       "100        0         1          0            1   \n",
       "1537       0         0          0            0   \n",
       "\n",
       "                                             final_text  k_means  crime  \\\n",
       "100   ali b geeft antwoord  theatervoorstelling publ...        0      0   \n",
       "1537  leven in de brouwerij  bierliefhebber patrick ...        0      0   \n",
       "\n",
       "      action  politics  teen  reality  \n",
       "100        0         0     1        0  \n",
       "1537       0         0     0        0  "
      ]
     },
     "execution_count": 142,
     "metadata": {},
     "output_type": "execute_result"
    }
   ],
   "source": [
    "samp_df = pd.concat(dfs,axis=0)\n",
    "samp_df.head(2)"
   ]
  },
  {
   "cell_type": "code",
   "execution_count": 146,
   "metadata": {},
   "outputs": [
    {
     "data": {
      "text/plain": [
       "0    741\n",
       "1      9\n",
       "Name: reality, dtype: int64"
      ]
     },
     "execution_count": 146,
     "metadata": {},
     "output_type": "execute_result"
    }
   ],
   "source": [
    "samp_df.reality.value_counts()"
   ]
  },
  {
   "cell_type": "code",
   "execution_count": 148,
   "metadata": {},
   "outputs": [],
   "source": [
    "samp_df[['ID','titles','descriptions','pictures','k_means', 'nature','history', 'travel','romantic','diversity','educational','crime', 'action', 'politics', 'teen', 'reality','k_means']].to_csv('sample_npo.csv')"
   ]
  },
  {
   "cell_type": "code",
   "execution_count": null,
   "metadata": {},
   "outputs": [],
   "source": []
  }
 ],
 "metadata": {
  "kernelspec": {
   "display_name": "Python 3",
   "language": "python",
   "name": "python3"
  },
  "language_info": {
   "codemirror_mode": {
    "name": "ipython",
    "version": 3
   },
   "file_extension": ".py",
   "mimetype": "text/x-python",
   "name": "python",
   "nbconvert_exporter": "python",
   "pygments_lexer": "ipython3",
   "version": "3.8.3"
  }
 },
 "nbformat": 4,
 "nbformat_minor": 5
}
